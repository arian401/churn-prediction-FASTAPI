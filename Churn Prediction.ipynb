{
 "cells": [
  {
   "cell_type": "markdown",
   "id": "dfcd6822",
   "metadata": {},
   "source": [
    "# Automated Churn Prediction and Retail Optimization Using FastAPI and Airflow"
   ]
  },
  {
   "cell_type": "markdown",
   "id": "c3b273c1",
   "metadata": {},
   "source": [
    " \n",
    "## 1.\tConnect to your database, get the dataset\n",
    "Use SQLAlchemy or psycopg2 to connect to your database and extract relevant customer records."
   ]
  },
  {
   "cell_type": "code",
   "execution_count": null,
   "id": "157bdacc",
   "metadata": {},
   "outputs": [],
   "source": [
    "from sqlalchemy import create_engine\n",
    "import pandas as pd\n",
    "\n",
    "# Replace with your credentials\n",
    "username = \"your_username\"\n",
    "password = \"your_password\"\n",
    "host = \"localhost\"\n",
    "port = \"5432\"\n",
    "database = \"your_database\"\n",
    "\n",
    "# Create engine\n",
    "engine = create_engine(f\"postgresql+psycopg2://{username}:{password}@{host}:{port}/{database}\")\n",
    "\n",
    "# Sample SQL query to get customer data\n",
    "query = \"\"\"\n",
    "SELECT\n",
    "    customer_id,\n",
    "    tenure_months,\n",
    "    total_spent,\n",
    "    avg_purchase_frequency,\n",
    "    is_active,\n",
    "    churned\n",
    "FROM\n",
    "    customer_data;\n",
    "\"\"\"\n",
    "\n",
    "# Load into pandas\n",
    "df = pd.read_sql(query, engine)"
   ]
  },
  {
   "cell_type": "markdown",
   "id": "c51e816a",
   "metadata": {},
   "source": [
    "## 2. Prepare the Dataset before ML\n",
    "Handle missing values, encode categorical variables, and scale numeric features."
   ]
  },
  {
   "cell_type": "code",
   "execution_count": null,
   "id": "639e3ad7",
   "metadata": {},
   "outputs": [],
   "source": [
    "# Define X and y\n",
    "X = df[[\"tenure_months\", \"total_spent\", \"avg_purchase_frequency\", \"is_active\"]]\n",
    "y = df[\"churned\"]\n",
    "\n",
    "# Handle missing values or scaling if needed\n",
    "from sklearn.preprocessing import StandardScaler\n",
    "scaler = StandardScaler()\n",
    "X_scaled = scaler.fit_transform(X)"
   ]
  },
  {
   "cell_type": "markdown",
   "id": "b824f60a",
   "metadata": {},
   "source": [
    "## 3. Train the Model\n",
    "Use scikit-learn (or XGBoost, etc.) to fit a classification model."
   ]
  },
  {
   "cell_type": "code",
   "execution_count": null,
   "id": "0e4ff1e2",
   "metadata": {},
   "outputs": [],
   "source": [
    "from sklearn.ensemble import RandomForestClassifier\n",
    "from sklearn.model_selection import train_test_split\n",
    "from sklearn.metrics import classification_report\n",
    "\n",
    "# Split data\n",
    "X_train, X_test, y_train, y_test = train_test_split(X_scaled, y, test_size=0.2, random_state=42)\n",
    "\n",
    "# Train model\n",
    "model = RandomForestClassifier(n_estimators=100, random_state=42)\n",
    "model.fit(X_train, y_train)\n",
    "\n",
    "# Evaluate\n",
    "y_pred = model.predict(X_test)\n",
    "print(classification_report(y_test, y_pred))"
   ]
  },
  {
   "cell_type": "markdown",
   "id": "10c51f8f",
   "metadata": {},
   "source": [
    "## 4. Save the Model as pkl files\n",
    "Export trained model and scaler (e.g., churn_model.pkl, scaler.pkl) using joblib."
   ]
  },
  {
   "cell_type": "code",
   "execution_count": null,
   "id": "e93e1f9b",
   "metadata": {},
   "outputs": [],
   "source": [
    "import joblib\n",
    "\n",
    "joblib.dump(model, \"churn_model.pkl\")\n",
    "joblib.dump(scaler, \"scaler.pkl\")"
   ]
  }
 ],
 "metadata": {
  "kernelspec": {
   "display_name": "Python 3 (ipykernel)",
   "language": "python",
   "name": "python3"
  },
  "language_info": {
   "codemirror_mode": {
    "name": "ipython",
    "version": 3
   },
   "file_extension": ".py",
   "mimetype": "text/x-python",
   "name": "python",
   "nbconvert_exporter": "python",
   "pygments_lexer": "ipython3",
   "version": "3.9.12"
  }
 },
 "nbformat": 4,
 "nbformat_minor": 5
}
